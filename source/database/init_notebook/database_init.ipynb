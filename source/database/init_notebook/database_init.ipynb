{
 "cells": [
  {
   "cell_type": "markdown",
   "id": "6fed43fc",
   "metadata": {},
   "source": [
    "## Prerequisites\n",
    "\n",
    "1. Stacks must have been successfully deployed\n",
    "2. The Translation Memory Table must have been created as described in the Readme.md"
   ]
  },
  {
   "cell_type": "markdown",
   "id": "d7045906",
   "metadata": {},
   "source": [
    "## Setup\n",
    "Install required python libraries for the workshop.\n"
   ]
  },
  {
   "cell_type": "code",
   "execution_count": null,
   "id": "0dc3f87c",
   "metadata": {},
   "outputs": [],
   "source": [
    "# Install all the required prerequiste libraries - approx 3 min to complete\n",
    "%pip install -r requirements.txt\n",
    "%pip install -r bedrock_requirements.txt"
   ]
  },
  {
   "cell_type": "markdown",
   "id": "3319d58a",
   "metadata": {},
   "source": [
    "## Generate Embeddings for Sample Data"
   ]
  },
  {
   "cell_type": "markdown",
   "id": "2f202562",
   "metadata": {},
   "source": [
    "### Load sample data"
   ]
  },
  {
   "cell_type": "code",
   "execution_count": null,
   "id": "37ae9328",
   "metadata": {},
   "outputs": [],
   "source": [
    "import boto3\n",
    "import json\n",
    "\n",
    "bedrock = boto3.client(service_name=\"bedrock\")\n",
    "bedrock_runtime = boto3.client(service_name=\"bedrock-runtime\")"
   ]
  },
  {
   "cell_type": "code",
   "execution_count": null,
   "id": "11d3809b",
   "metadata": {},
   "outputs": [],
   "source": [
    "import pandas as pd\n",
    "\n",
    "# Load the data of csv\n",
    "df = pd.read_csv('data/wmt19_fr-de.csv')\n",
    "print(\"Total number of records : {}\".format(len(df.index)))\n",
    "\n",
    "display(df.head(2))"
   ]
  },
  {
   "cell_type": "markdown",
   "id": "c805d844",
   "metadata": {},
   "source": [
    "### Generate Embeddings"
   ]
  },
  {
   "cell_type": "code",
   "execution_count": null,
   "id": "cdc553cf",
   "metadata": {},
   "outputs": [],
   "source": [
    "def generate_embeddings(query):\n",
    "    \n",
    "    payLoad = json.dumps({'inputText': query })\n",
    "    \n",
    "    response = bedrock_runtime.invoke_model(\n",
    "        body=payLoad, \n",
    "        modelId='amazon.titan-embed-text-v2:0',\n",
    "        accept=\"application/json\", \n",
    "        contentType=\"application/json\" )\n",
    "    response_body = json.loads(response.get(\"body\").read())\n",
    "    return(response_body.get(\"embedding\"))\n",
    "    \n",
    "source_embeddings = generate_embeddings(df.iloc[1].get('source'))\n",
    "\n",
    "print (\"Number of dimensions : {}\".format(len(source_embeddings)))"
   ]
  },
  {
   "cell_type": "code",
   "execution_count": null,
   "id": "0f1875af",
   "metadata": {},
   "outputs": [],
   "source": [
    "# Generate embeddings for all the products descriptions - approx 3 min to complete\n",
    "# If there are any failures, please rerun the cell again.\n",
    "\n",
    "from pandarallel import pandarallel\n",
    "\n",
    "pandarallel.initialize(progress_bar=True, nb_workers=8)\n",
    "\n",
    "df_20 = df.head(20)\n",
    "df_20['target_embeddings'] = df_20['target'].apply(generate_embeddings)\n",
    "df_20['source_embeddings'] = df_20['source'].apply(generate_embeddings)"
   ]
  },
  {
   "cell_type": "markdown",
   "id": "82c07749",
   "metadata": {},
   "source": [
    "### Load Embeddings into Translation Memory Table"
   ]
  },
  {
   "cell_type": "code",
   "execution_count": null,
   "id": "9fdaf639-081c-4007-9238-48739109cf3e",
   "metadata": {},
   "outputs": [],
   "source": [
    "import boto3 \n",
    "import json \n",
    "\n",
    "secret_arn= \"arn:aws:secretsmanager:us-east-2:986528949439:secret:AuroraCredentials20EDD625-lm2rx5dUXdeO-OOCrM5\"\n",
    "cluster_arn = \"arn:aws:rds:us-east-2:986528949439:cluster:databasestack-translationmemoryauroraclusterfd1dc6-axcfoistdywf\"\n",
    "database_name = 'MTEngineTranslationMemoryDb'\n",
    "\n",
    "def call_rds_data_api(source_lang, target_lang, source_text, target_text, source_text_embedding, target_text_embedding):\n",
    "    rds_data = boto3.client('rds-data')\n",
    "\n",
    "    sql = \"\"\"\n",
    "          INSERT INTO translation_memory(source_text, target_text, source_lang, target_lang, source_text_embedding, target_text_embedding)\n",
    "          VALUES( :source_text, :target_text, :source_lang, :target_lang, CAST(:source_text_embedding AS VECTOR), CAST(:target_text_embedding AS VECTOR))\n",
    "          \"\"\"\n",
    "\n",
    "    #param1 = {'name':'unique_id', 'value':{'longValue': unique_id}}\n",
    "    param2 = {'name':'source_text', 'value':{'stringValue': source_text}}\n",
    "    param3 = {'name':'target_text', 'value':{'stringValue': target_text}}\n",
    "    param4 = {'name':'source_lang', 'value':{'stringValue': source_lang}}\n",
    "    param5 = {'name':'target_lang', 'value':{'stringValue': target_lang}}\n",
    "    param6 = {'name':'source_text_embedding', 'value':{'stringValue': source_text_embedding}}\n",
    "    param7 = {'name':'target_text_embedding', 'value':{'stringValue': target_text_embedding}}\n",
    "    param_set = [param2, param3, param4, param5, param6, param7]\n",
    " \n",
    "    response = rds_data.execute_statement(\n",
    "        resourceArn = cluster_arn, \n",
    "        secretArn = secret_arn, \n",
    "        database = database_name, \n",
    "        sql = sql,\n",
    "        parameters = param_set)\n",
    "\n",
    "for  index, record in df_20.iterrows():\n",
    "    call_rds_data_api(\"fr\", \"de\", record['source'], record['target'], str(record['source_embeddings']), str(record['target_embeddings']))"
   ]
  },
  {
   "cell_type": "markdown",
   "id": "a4a93851",
   "metadata": {},
   "source": [
    "## Test translation memory table vector search\n"
   ]
  },
  {
   "cell_type": "code",
   "execution_count": null,
   "id": "2053a4e8",
   "metadata": {},
   "outputs": [
    {
     "name": "stdout",
     "output_type": "stream",
     "text": [
      "{'ResponseMetadata': {'RequestId': '02293b1a-f53c-464a-80c2-2d86049a3359', 'HTTPStatusCode': 200, 'HTTPHeaders': {'x-amzn-requestid': '02293b1a-f53c-464a-80c2-2d86049a3359', 'date': 'Thu, 03 Apr 2025 19:30:05 GMT', 'content-type': 'application/json', 'content-length': '854', 'connection': 'keep-alive'}, 'RetryAttempts': 0}, 'records': [[{'longValue': 1}, {'stringValue': 'Reprise de la session'}, {'stringValue': 'Wiederaufnahme der Sitzungsperiode'}], [{'longValue': 2}, {'stringValue': 'Je déclare reprise la session du Parlement européen qui avait été interrompue le vendredi 17 décembre dernier et je vous renouvelle tous mes vux en espérant que vous avez passé de bonnes vacances.'}, {'stringValue': 'Ich erkläre die am Freitag, dem 17. Dezember unterbrochene Sitzungsperiode des Europäischen Parlaments für wiederaufgenommen, wünsche Ihnen nochmals alles Gute zum Jahreswechsel und hoffe, daß Sie schöne Ferien hatten.'}], [{'longValue': 8}, {'stringValue': \"Madame la Présidente, c'est une motion de procédure.\"}, {'stringValue': 'Frau Präsidentin, zur Geschäftsordnung.'}]], 'numberOfRecordsUpdated': 0}\n"
     ]
    }
   ],
   "source": [
    "import numpy\n",
    "from IPython.display import display, Markdown, Latex, HTML\n",
    "\n",
    "\n",
    "def similarity_search(search_text):\n",
    "    \n",
    "    embedding = numpy.array(generate_embeddings(search_text))\n",
    "    rds_data = boto3.client('rds-data')\n",
    "    embedding_str = str(embedding.tolist())\n",
    "    sql_text = f\"SELECT unique_id, source_text, target_text FROM translation_memory ORDER BY source_text_embedding <=> CAST('{embedding_str}' AS VECTOR) limit 3;\"\n",
    "    \n",
    "    #print(sql_text)\n",
    "\n",
    "    param1 = {'name':'embedding', 'value':{'stringValue': str(embedding.tolist())}}\n",
    "    \n",
    "    #print(param1)\n",
    "    response = rds_data.execute_statement(\n",
    "        resourceArn = cluster_arn, \n",
    "        secretArn = secret_arn, \n",
    "        database = database_name, \n",
    "        sql = sql_text\n",
    "    )\n",
    "\n",
    "    print(response)\n",
    "    #img_td = \"\"\n",
    "    #for x in r:\n",
    "    #    url = x[1].split(\"|\")[0]\n",
    "    #    img_td = img_td + \"\"\"<tr><td><img src={} width=\"1000\"></td>\"\"\".format(url)\n",
    "    #    img_td = img_td + \"\"\"<td style=\"text-align: left; vertical-align: top;\"> <h3>{}</h3> <p>{}</p></td></tr>\"\"\".format(str(x[2]),str(x[4]))\n",
    "       \n",
    "    #display(HTML(\"\"\"<table>{}</table>\"\"\".format(img_td)))\n",
    "    #dbconn.close()\n",
    "\n",
    "similarity_search(\"Reprise de la session\")\n"
   ]
  }
 ],
 "metadata": {
  "kernelspec": {
   "display_name": "Python 3 (ipykernel)",
   "language": "python",
   "name": "python3"
  },
  "language_info": {
   "codemirror_mode": {
    "name": "ipython",
    "version": 3
   },
   "file_extension": ".py",
   "mimetype": "text/x-python",
   "name": "python",
   "nbconvert_exporter": "python",
   "pygments_lexer": "ipython3",
   "version": "3.11.11"
  }
 },
 "nbformat": 4,
 "nbformat_minor": 5
}
