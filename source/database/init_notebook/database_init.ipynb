{
 "cells": [
  {
   "cell_type": "markdown",
   "id": "intro",
   "metadata": {},
   "source": [
    "# Translation Memory Database Initialization\n",
    "\n",
    "This notebook allows you to create and initialize the translation memory database for the machine translation pipeline. The translation memory database stores previously translated text pairs with their embeddings to enable similarity search and improve translation consistency.\n",
    "\n",
    "## What this notebook does:\n",
    "\n",
    "- Loads sample translation data (French to German)\n",
    "- Generates embeddings for source and target text using Amazon Bedrock\n",
    "- Populates the Aurora PostgreSQL translation memory table\n",
    "- Tests vector similarity search functionality\n",
    "\n",
    "The translation memory enables the pipeline to find similar previously translated content and suggest consistent translations for recurring text patterns."
   ]
  },
  {
   "cell_type": "markdown",
   "id": "prerequisites",
   "metadata": {},
   "source": [
    "## Prerequisites\n",
    "\n",
    "1. All CDK stacks must have been successfully deployed\n",
    "2. The Translation Memory Aurora PostgreSQL cluster must be running\n",
    "3. The translation_memory table must have been created with vector extension enabled\n",
    "4. Amazon Bedrock access must be configured for embedding generation\n",
    "5. Ensure you have the proper permissions to interact with the Translation Memory database via RDS Data API. A role that includes a policy similar to the one below would be sufficient\n",
    "\n",
    "    ```json\n",
    "    {\n",
    "        \"Action\": [\n",
    "            \"rds-data:BatchExecuteStatement\",\n",
    "            \"rds-data:BeginTransaction\",\n",
    "            \"rds-data:CommitTransaction\",\n",
    "            \"rds-data:ExecuteStatement\",\n",
    "            \"rds-data:RollbackTransaction\"\n",
    "        ],\n",
    "        \"Resource\": \"arn:aws:rds:us-west-2:123456789012123456789012:cluster:my_cluster_id\",\n",
    "        \"Effect\": \"Allow\"\n",
    "    }\n",
    "    ```"
   ]
  },
  {
   "cell_type": "markdown",
   "id": "setup",
   "metadata": {},
   "source": [
    "## Setup\n",
    "\n",
    "Install the required Python libraries for database initialization and embedding generation."
   ]
  },
  {
   "cell_type": "code",
   "execution_count": null,
   "id": "install-deps",
   "metadata": {
    "execution": {
     "iopub.execute_input": "2025-07-10T18:14:55.610620Z",
     "iopub.status.busy": "2025-07-10T18:14:55.610270Z",
     "iopub.status.idle": "2025-07-10T18:15:15.695036Z",
     "shell.execute_reply": "2025-07-10T18:15:15.694024Z",
     "shell.execute_reply.started": "2025-07-10T18:14:55.610594Z"
    },
    "scrolled": true
   },
   "outputs": [],
   "source": [
    "# Install all the required prerequiste libraries - approx 3 min to complete\n",
    "%pip install -r requirements.txt\n",
    "%pip install -r bedrock_requirements.txt"
   ]
  },
  {
   "cell_type": "markdown",
   "id": "embeddings-section",
   "metadata": {},
   "source": [
    "## Generate Embeddings for Sample Data\n",
    "\n",
    "This section demonstrates how to generate vector embeddings for translation pairs using Amazon Bedrock's Titan embedding model. These embeddings enable semantic similarity search in the translation memory."
   ]
  },
  {
   "cell_type": "markdown",
   "id": "load-data",
   "metadata": {},
   "source": [
    "### Load Sample Translation Memory Data\n",
    "\n",
    "Load the WMT19 French-German translation dataset to populate the translation memory with high-quality translation pairs. The sample data is borrowed from the [WMT19](https://huggingface.co/datasets/wmt/wmt19) open source dataset available on HuggingFace."
   ]
  },
  {
   "cell_type": "code",
   "execution_count": null,
   "id": "init-bedrock",
   "metadata": {
    "execution": {
     "iopub.execute_input": "2025-07-10T18:17:16.657312Z",
     "iopub.status.busy": "2025-07-10T18:17:16.657022Z",
     "iopub.status.idle": "2025-07-10T18:17:16.921492Z",
     "shell.execute_reply": "2025-07-10T18:17:16.920589Z",
     "shell.execute_reply.started": "2025-07-10T18:17:16.657288Z"
    }
   },
   "outputs": [],
   "source": [
    "import boto3\n",
    "import json\n",
    "\n",
    "bedrock = boto3.client(service_name=\"bedrock\")\n",
    "bedrock_runtime = boto3.client(service_name=\"bedrock-runtime\")"
   ]
  },
  {
   "cell_type": "code",
   "execution_count": null,
   "id": "load-csv",
   "metadata": {
    "execution": {
     "iopub.execute_input": "2025-07-10T18:17:17.241142Z",
     "iopub.status.busy": "2025-07-10T18:17:17.240158Z",
     "iopub.status.idle": "2025-07-10T18:17:17.870195Z",
     "shell.execute_reply": "2025-07-10T18:17:17.869374Z",
     "shell.execute_reply.started": "2025-07-10T18:17:17.241111Z"
    }
   },
   "outputs": [
    {
     "name": "stdout",
     "output_type": "stream",
     "text": [
      "Total number of records : 1000\n"
     ]
    },
    {
     "data": {
      "text/html": [
       "<div>\n",
       "<style scoped>\n",
       "    .dataframe tbody tr th:only-of-type {\n",
       "        vertical-align: middle;\n",
       "    }\n",
       "\n",
       "    .dataframe tbody tr th {\n",
       "        vertical-align: top;\n",
       "    }\n",
       "\n",
       "    .dataframe thead th {\n",
       "        text-align: right;\n",
       "    }\n",
       "</style>\n",
       "<table border=\"1\" class=\"dataframe\">\n",
       "  <thead>\n",
       "    <tr style=\"text-align: right;\">\n",
       "      <th></th>\n",
       "      <th>source</th>\n",
       "      <th>target</th>\n",
       "    </tr>\n",
       "  </thead>\n",
       "  <tbody>\n",
       "    <tr>\n",
       "      <th>0</th>\n",
       "      <td>Reprise de la session</td>\n",
       "      <td>Wiederaufnahme der Sitzungsperiode</td>\n",
       "    </tr>\n",
       "    <tr>\n",
       "      <th>1</th>\n",
       "      <td>Je déclare reprise la session du Parlement eur...</td>\n",
       "      <td>Ich erkläre die am Freitag, dem 17. Dezember u...</td>\n",
       "    </tr>\n",
       "  </tbody>\n",
       "</table>\n",
       "</div>"
      ],
      "text/plain": [
       "                                              source  \\\n",
       "0                              Reprise de la session   \n",
       "1  Je déclare reprise la session du Parlement eur...   \n",
       "\n",
       "                                              target  \n",
       "0                 Wiederaufnahme der Sitzungsperiode  \n",
       "1  Ich erkläre die am Freitag, dem 17. Dezember u...  "
      ]
     },
     "metadata": {},
     "output_type": "display_data"
    }
   ],
   "source": [
    "import pandas as pd\n",
    "\n",
    "# Load the data of csv\n",
    "df = pd.read_csv('../../sample_data/wmt19_fr-de.csv')\n",
    "print(\"Total number of records : {}\".format(len(df.index)))\n",
    "\n",
    "display(df.head(2))"
   ]
  },
  {
   "cell_type": "markdown",
   "id": "generate-embeddings",
   "metadata": {},
   "source": [
    "### Generate Text Embeddings\n",
    "\n",
    "Use Amazon Bedrock's Titan Text Embeddings v2 model to convert text into high-dimensional vectors that capture semantic meaning. These embeddings enable similarity search for finding relevant translation memories."
   ]
  },
  {
   "cell_type": "code",
   "execution_count": null,
   "id": "embedding-function",
   "metadata": {
    "execution": {
     "iopub.execute_input": "2025-07-10T18:17:21.529170Z",
     "iopub.status.busy": "2025-07-10T18:17:21.528879Z",
     "iopub.status.idle": "2025-07-10T18:17:21.629933Z",
     "shell.execute_reply": "2025-07-10T18:17:21.629171Z",
     "shell.execute_reply.started": "2025-07-10T18:17:21.529149Z"
    }
   },
   "outputs": [
    {
     "name": "stdout",
     "output_type": "stream",
     "text": [
      "Number of dimensions : 1024\n"
     ]
    }
   ],
   "source": [
    "def generate_embeddings(query):\n",
    "    \n",
    "    payLoad = json.dumps({'inputText': query })\n",
    "    \n",
    "    response = bedrock_runtime.invoke_model(\n",
    "        body=payLoad, \n",
    "        modelId='amazon.titan-embed-text-v2:0',\n",
    "        accept=\"application/json\", \n",
    "        contentType=\"application/json\" )\n",
    "    response_body = json.loads(response.get(\"body\").read())\n",
    "    return(response_body.get(\"embedding\"))\n",
    "    \n",
    "source_embeddings = generate_embeddings(df.iloc[1].get('source'))\n",
    "\n",
    "print (\"Number of dimensions : {}\".format(len(source_embeddings)))"
   ]
  },
  {
   "cell_type": "code",
   "execution_count": null,
   "id": "batch-embeddings",
   "metadata": {
    "collapsed": true,
    "execution": {
     "iopub.execute_input": "2025-07-10T18:17:26.480975Z",
     "iopub.status.busy": "2025-07-10T18:17:26.480010Z",
     "iopub.status.idle": "2025-07-10T18:17:29.866220Z",
     "shell.execute_reply": "2025-07-10T18:17:29.865310Z",
     "shell.execute_reply.started": "2025-07-10T18:17:26.480945Z"
    },
    "jupyter": {
     "outputs_hidden": true
    },
    "scrolled": true
   },
   "outputs": [],
   "source": [
    "# Generate embeddings for translation pairs - approx 3 min to complete\n",
    "# Processing first 20 records for demonstration. If there are any failures, please rerun the cell.\n",
    "\n",
    "from pandarallel import pandarallel\n",
    "\n",
    "pandarallel.initialize(progress_bar=True, nb_workers=8)\n",
    "\n",
    "df_20 = df.head(20)\n",
    "df_20['target_embeddings'] = df_20['target'].apply(generate_embeddings)\n",
    "df_20['source_embeddings'] = df_20['source'].apply(generate_embeddings)"
   ]
  },
  {
   "cell_type": "code",
   "execution_count": null,
   "id": "0e6b5c8a-48b6-422b-b4a3-fda190725b8c",
   "metadata": {
    "execution": {
     "iopub.execute_input": "2025-07-10T18:38:01.011245Z",
     "iopub.status.busy": "2025-07-10T18:38:01.010878Z",
     "iopub.status.idle": "2025-07-10T18:38:01.029206Z",
     "shell.execute_reply": "2025-07-10T18:38:01.028412Z",
     "shell.execute_reply.started": "2025-07-10T18:38:01.011220Z"
    }
   },
   "outputs": [
    {
     "data": {
      "text/html": [
       "<div>\n",
       "<style scoped>\n",
       "    .dataframe tbody tr th:only-of-type {\n",
       "        vertical-align: middle;\n",
       "    }\n",
       "\n",
       "    .dataframe tbody tr th {\n",
       "        vertical-align: top;\n",
       "    }\n",
       "\n",
       "    .dataframe thead th {\n",
       "        text-align: right;\n",
       "    }\n",
       "</style>\n",
       "<table border=\"1\" class=\"dataframe\">\n",
       "  <thead>\n",
       "    <tr style=\"text-align: right;\">\n",
       "      <th></th>\n",
       "      <th>source</th>\n",
       "      <th>target</th>\n",
       "    </tr>\n",
       "  </thead>\n",
       "  <tbody>\n",
       "    <tr>\n",
       "      <th>0</th>\n",
       "      <td>Reprise de la session</td>\n",
       "      <td>Wiederaufnahme der Sitzungsperiode</td>\n",
       "    </tr>\n",
       "    <tr>\n",
       "      <th>1</th>\n",
       "      <td>Je déclare reprise la session du Parlement eur...</td>\n",
       "      <td>Ich erkläre die am Freitag, dem 17. Dezember u...</td>\n",
       "    </tr>\n",
       "    <tr>\n",
       "      <th>2</th>\n",
       "      <td>Comme vous avez pu le constater, le grand \"bog...</td>\n",
       "      <td>Wie Sie feststellen konnten, ist der gefürchte...</td>\n",
       "    </tr>\n",
       "    <tr>\n",
       "      <th>3</th>\n",
       "      <td>Vous avez souhaité un débat à ce sujet dans le...</td>\n",
       "      <td>Im Parlament besteht der Wunsch nach einer Aus...</td>\n",
       "    </tr>\n",
       "    <tr>\n",
       "      <th>4</th>\n",
       "      <td>En attendant, je souhaiterais, comme un certai...</td>\n",
       "      <td>Heute möchte ich Sie bitten - das ist auch der...</td>\n",
       "    </tr>\n",
       "    <tr>\n",
       "      <th>...</th>\n",
       "      <td>...</td>\n",
       "      <td>...</td>\n",
       "    </tr>\n",
       "    <tr>\n",
       "      <th>995</th>\n",
       "      <td>Nous entendons quotidiennement dire qu'il faut...</td>\n",
       "      <td>Tagtäglich werden wir aufgefordert, uns für ei...</td>\n",
       "    </tr>\n",
       "    <tr>\n",
       "      <th>996</th>\n",
       "      <td>Toutefois, en réalité, tout cela tient de la r...</td>\n",
       "      <td>Ein Blick auf die nationalen, regionalen und l...</td>\n",
       "    </tr>\n",
       "    <tr>\n",
       "      <th>997</th>\n",
       "      <td>C'est dans ce contexte que je veux évaluer les...</td>\n",
       "      <td>Dies ist der Zusammenhang, in den ich meine Üb...</td>\n",
       "    </tr>\n",
       "    <tr>\n",
       "      <th>998</th>\n",
       "      <td>Je voudrais dire clairement que nous accordons...</td>\n",
       "      <td>Ich möchte klarstellen, daß wir größtes Vertra...</td>\n",
       "    </tr>\n",
       "    <tr>\n",
       "      <th>999</th>\n",
       "      <td>Nous considérons qu'il est l'homme idoine pour...</td>\n",
       "      <td>Er ist der Mann, auf den wir bei der Zerschlag...</td>\n",
       "    </tr>\n",
       "  </tbody>\n",
       "</table>\n",
       "<p>1000 rows × 2 columns</p>\n",
       "</div>"
      ],
      "text/plain": [
       "                                                source  \\\n",
       "0                                Reprise de la session   \n",
       "1    Je déclare reprise la session du Parlement eur...   \n",
       "2    Comme vous avez pu le constater, le grand \"bog...   \n",
       "3    Vous avez souhaité un débat à ce sujet dans le...   \n",
       "4    En attendant, je souhaiterais, comme un certai...   \n",
       "..                                                 ...   \n",
       "995  Nous entendons quotidiennement dire qu'il faut...   \n",
       "996  Toutefois, en réalité, tout cela tient de la r...   \n",
       "997  C'est dans ce contexte que je veux évaluer les...   \n",
       "998  Je voudrais dire clairement que nous accordons...   \n",
       "999  Nous considérons qu'il est l'homme idoine pour...   \n",
       "\n",
       "                                                target  \n",
       "0                   Wiederaufnahme der Sitzungsperiode  \n",
       "1    Ich erkläre die am Freitag, dem 17. Dezember u...  \n",
       "2    Wie Sie feststellen konnten, ist der gefürchte...  \n",
       "3    Im Parlament besteht der Wunsch nach einer Aus...  \n",
       "4    Heute möchte ich Sie bitten - das ist auch der...  \n",
       "..                                                 ...  \n",
       "995  Tagtäglich werden wir aufgefordert, uns für ei...  \n",
       "996  Ein Blick auf die nationalen, regionalen und l...  \n",
       "997  Dies ist der Zusammenhang, in den ich meine Üb...  \n",
       "998  Ich möchte klarstellen, daß wir größtes Vertra...  \n",
       "999  Er ist der Mann, auf den wir bei der Zerschlag...  \n",
       "\n",
       "[1000 rows x 2 columns]"
      ]
     },
     "execution_count": 8,
     "metadata": {},
     "output_type": "execute_result"
    }
   ],
   "source": [
    "df"
   ]
  },
  {
   "cell_type": "markdown",
   "id": "load-database",
   "metadata": {},
   "source": [
    "### Initialize Translation Memory Table\n",
    "\n",
    "Insert the translation pairs and their embeddings into the Aurora PostgreSQL database using the RDS Data API. The embeddings are stored as vector data types for efficient similarity search.\n",
    "\n",
    "**Note:** Replace the placeholder values in the next cell with the actual CloudFormation output values from your DatabaseStack deployment."
   ]
  },
  {
   "cell_type": "markdown",
   "id": "01036454-0858-4c51-ac5f-227b53d3e28e",
   "metadata": {},
   "source": [
    "#### Create Table"
   ]
  },
  {
   "cell_type": "code",
   "execution_count": null,
   "id": "df5577e8-5b12-4d53-a026-ef9d3a51fd90",
   "metadata": {
    "execution": {
     "iopub.execute_input": "2025-07-10T18:50:24.875468Z",
     "iopub.status.busy": "2025-07-10T18:50:24.875091Z",
     "iopub.status.idle": "2025-07-10T18:50:24.879963Z",
     "shell.execute_reply": "2025-07-10T18:50:24.878806Z",
     "shell.execute_reply.started": "2025-07-10T18:50:24.875443Z"
    }
   },
   "outputs": [],
   "source": [
    "import boto3 \n",
    "import json \n",
    "\n",
    "# Replace these placeholders with actual values from your CDK deployment outputs:\n",
    "# - DatabaseSecretArn: The ARN of the Aurora credentials secret\n",
    "# - DatabaseClusterArn: The ARN of the Aurora PostgreSQL cluster\n",
    "# - DatabaseName: The name of the translation memory database\n",
    "\n",
    "secret_arn = \"<ARN_of_the_Aurora_Credentials_Secret>\"\n",
    "cluster_arn = \"<ARN_of_the_Aurora_PostgreSQL_cluster>\"\n",
    "database_name = \"<Translation_Memory_Database_Name>\""
   ]
  },
  {
   "cell_type": "code",
   "execution_count": null,
   "id": "fd394cce-f05f-456c-998b-f364e20cc8a1",
   "metadata": {
    "execution": {
     "iopub.execute_input": "2025-07-10T18:50:53.726027Z",
     "iopub.status.busy": "2025-07-10T18:50:53.725620Z",
     "iopub.status.idle": "2025-07-10T18:50:54.301747Z",
     "shell.execute_reply": "2025-07-10T18:50:54.300993Z",
     "shell.execute_reply.started": "2025-07-10T18:50:53.726001Z"
    }
   },
   "outputs": [],
   "source": [
    "def execute_statement(sql_query):\n",
    "    rds_data = boto3.client('rds-data')\n",
    "\n",
    "    response = rds_data.execute_statement(\n",
    "        resourceArn = cluster_arn, \n",
    "        secretArn = secret_arn, \n",
    "        database = database_name, \n",
    "        sql = sql_query)\n",
    "    \n",
    "def create_table():\n",
    "    rds_data = boto3.client('rds-data')\n",
    "\n",
    "    sql1 = \"\"\"\n",
    "        CREATE EXTENSION IF NOT EXISTS vector;\n",
    "          \"\"\"\n",
    "    execute_statement(sql1)\n",
    "\n",
    "    sql2 = \"\"\"\n",
    "        CREATE TABLE translation_memory (\n",
    "            unique_id SERIAL PRIMARY KEY,\n",
    "            source_text TEXT NOT NULL,\n",
    "            target_text TEXT NOT NULL,\n",
    "            source_text_embedding vector(1024), -- Add vector embedding column for source text\n",
    "            target_text_embedding vector(1024), -- Add vector embedding column for target text\n",
    "            source_lang VARCHAR(5) NOT NULL,\n",
    "            target_lang VARCHAR(5) NOT NULL, \n",
    "            data_source VARCHAR(50) DEFAULT 'wmt19' NOT NULL,\n",
    "            created_at TIMESTAMP WITH TIME ZONE DEFAULT CURRENT_TIMESTAMP,\n",
    "            \n",
    "            -- Add constraints to ensure valid language codes\n",
    "            CONSTRAINT check_source_lang CHECK (source_lang ~ '^[a-z]{2}$'),\n",
    "            CONSTRAINT check_target_lang CHECK (target_lang ~ '^[a-z]{2}$')\n",
    "        );\n",
    "          \"\"\"\n",
    "\n",
    "    execute_statement(sql2)\n",
    "\n",
    "create_table()"
   ]
  },
  {
   "cell_type": "markdown",
   "id": "8ee8e96e-f03a-4eb5-8812-09d379884280",
   "metadata": {},
   "source": [
    "#### Insert data"
   ]
  },
  {
   "cell_type": "code",
   "execution_count": null,
   "id": "database-config",
   "metadata": {
    "execution": {
     "iopub.execute_input": "2025-07-10T18:50:54.811783Z",
     "iopub.status.busy": "2025-07-10T18:50:54.811436Z",
     "iopub.status.idle": "2025-07-10T18:50:58.942442Z",
     "shell.execute_reply": "2025-07-10T18:50:58.941674Z",
     "shell.execute_reply.started": "2025-07-10T18:50:54.811759Z"
    }
   },
   "outputs": [],
   "source": [
    "def insert_data(source_lang, target_lang, source_text, target_text, source_text_embedding, target_text_embedding):\n",
    "    rds_data = boto3.client('rds-data')\n",
    "\n",
    "    sql = \"\"\"\n",
    "          INSERT INTO translation_memory(source_text, target_text, source_lang, target_lang, source_text_embedding, target_text_embedding)\n",
    "          VALUES( :source_text, :target_text, :source_lang, :target_lang, CAST(:source_text_embedding AS VECTOR), CAST(:target_text_embedding AS VECTOR))\n",
    "          \"\"\"\n",
    "\n",
    "    param2 = {'name':'source_text', 'value':{'stringValue': source_text}}\n",
    "    param3 = {'name':'target_text', 'value':{'stringValue': target_text}}\n",
    "    param4 = {'name':'source_lang', 'value':{'stringValue': source_lang}}\n",
    "    param5 = {'name':'target_lang', 'value':{'stringValue': target_lang}}\n",
    "    param6 = {'name':'source_text_embedding', 'value':{'stringValue': source_text_embedding}}\n",
    "    param7 = {'name':'target_text_embedding', 'value':{'stringValue': target_text_embedding}}\n",
    "    param_set = [param2, param3, param4, param5, param6, param7]\n",
    " \n",
    "    response = rds_data.execute_statement(\n",
    "        resourceArn = cluster_arn, \n",
    "        secretArn = secret_arn, \n",
    "        database = database_name, \n",
    "        sql = sql,\n",
    "        parameters = param_set)\n",
    "\n",
    "for  index, record in df_20.iterrows():\n",
    "    insert_data(\"fr\", \"de\", record['source'], record['target'], str(record['source_embeddings']), str(record['target_embeddings']))"
   ]
  },
  {
   "cell_type": "markdown",
   "id": "28e2e144-ac29-4728-b4e8-2bb21b48a8f6",
   "metadata": {
    "execution": {
     "iopub.execute_input": "2025-07-10T18:33:00.682390Z",
     "iopub.status.busy": "2025-07-10T18:33:00.681671Z",
     "iopub.status.idle": "2025-07-10T18:33:00.686129Z",
     "shell.execute_reply": "2025-07-10T18:33:00.685279Z",
     "shell.execute_reply.started": "2025-07-10T18:33:00.682360Z"
    }
   },
   "source": [
    "#### Create indices after data insert"
   ]
  },
  {
   "cell_type": "code",
   "execution_count": null,
   "id": "29deafdb-a9d8-4613-8a57-03b5ecfc71ad",
   "metadata": {
    "execution": {
     "iopub.execute_input": "2025-07-10T18:51:40.254968Z",
     "iopub.status.busy": "2025-07-10T18:51:40.254319Z",
     "iopub.status.idle": "2025-07-10T18:51:41.422495Z",
     "shell.execute_reply": "2025-07-10T18:51:41.421646Z",
     "shell.execute_reply.started": "2025-07-10T18:51:40.254941Z"
    }
   },
   "outputs": [],
   "source": [
    "indices_sql = [\n",
    "    \"CREATE INDEX idx_source_lang ON translation_memory(source_lang);\",\n",
    "    \"CREATE INDEX idx_target_lang ON translation_memory(target_lang);\",\n",
    "    \"CREATE INDEX idx_data_source ON translation_memory(data_source);\",\n",
    "    \"CREATE INDEX idx_source_lang_data_source ON translation_memory(source_lang, data_source);\",\n",
    "    \"CREATE INDEX idx_source_text_embedding ON translation_memory USING ivfflat (source_text_embedding vector_cosine_ops);\",\n",
    "    \"CREATE INDEX idx_target_text_embedding ON translation_memory USING ivfflat (target_text_embedding vector_cosine_ops);\"\n",
    "]\n",
    "\n",
    "for sql in indices_sql :\n",
    "    execute_statement(sql)\n"
   ]
  },
  {
   "cell_type": "markdown",
   "id": "test-search",
   "metadata": {},
   "source": [
    "## Test Translation Memory Vector Search\n",
    "\n",
    "Verify that the translation memory is working correctly by performing a similarity search. This demonstrates how the system finds the most similar source texts and their corresponding translations based on vector embeddings."
   ]
  },
  {
   "cell_type": "code",
   "execution_count": null,
   "id": "similarity-search",
   "metadata": {
    "execution": {
     "iopub.execute_input": "2025-07-10T18:51:49.599992Z",
     "iopub.status.busy": "2025-07-10T18:51:49.599367Z",
     "iopub.status.idle": "2025-07-10T18:51:50.338778Z",
     "shell.execute_reply": "2025-07-10T18:51:50.337970Z",
     "shell.execute_reply.started": "2025-07-10T18:51:49.599965Z"
    }
   },
   "outputs": [
    {
     "name": "stdout",
     "output_type": "stream",
     "text": [
      "{'ResponseMetadata': {'RequestId': '4cd33754-3e35-4820-bebf-729a4be197d3', 'HTTPStatusCode': 200, 'HTTPHeaders': {'x-amzn-requestid': '4cd33754-3e35-4820-bebf-729a4be197d3', 'date': 'Thu, 10 Jul 2025 18:51:50 GMT', 'content-type': 'application/json', 'content-length': '854', 'connection': 'keep-alive'}, 'RetryAttempts': 0}, 'records': [[{'longValue': 1}, {'stringValue': 'Reprise de la session'}, {'stringValue': 'Wiederaufnahme der Sitzungsperiode'}], [{'longValue': 2}, {'stringValue': 'Je déclare reprise la session du Parlement européen qui avait été interrompue le vendredi 17 décembre dernier et je vous renouvelle tous mes vux en espérant que vous avez passé de bonnes vacances.'}, {'stringValue': 'Ich erkläre die am Freitag, dem 17. Dezember unterbrochene Sitzungsperiode des Europäischen Parlaments für wiederaufgenommen, wünsche Ihnen nochmals alles Gute zum Jahreswechsel und hoffe, daß Sie schöne Ferien hatten.'}], [{'longValue': 8}, {'stringValue': \"Madame la Présidente, c'est une motion de procédure.\"}, {'stringValue': 'Frau Präsidentin, zur Geschäftsordnung.'}]], 'numberOfRecordsUpdated': 0}\n"
     ]
    }
   ],
   "source": [
    "import numpy\n",
    "from IPython.display import display, Markdown, Latex, HTML\n",
    "\n",
    "def similarity_search(search_text):\n",
    "    \n",
    "    embedding = numpy.array(generate_embeddings(search_text))\n",
    "    rds_data = boto3.client('rds-data')\n",
    "    embedding_str = str(embedding.tolist())\n",
    "    sql_text = f\"SELECT unique_id, source_text, target_text FROM translation_memory ORDER BY source_text_embedding <=> CAST('{embedding_str}' AS VECTOR) limit 3;\"\n",
    "    \n",
    "    response = rds_data.execute_statement(\n",
    "        resourceArn = cluster_arn, \n",
    "        secretArn = secret_arn, \n",
    "        database = database_name, \n",
    "        sql = sql_text\n",
    "    )\n",
    "\n",
    "    print(response)\n",
    "\n",
    "similarity_search(\"Reprise de la session\")"
   ]
  },
  {
   "cell_type": "code",
   "execution_count": null,
   "id": "07204505-6b42-4709-8477-b760a89ff2f4",
   "metadata": {},
   "outputs": [],
   "source": []
  }
 ],
 "metadata": {
  "kernelspec": {
   "display_name": "base",
   "language": "python",
   "name": "python3"
  },
  "language_info": {
   "codemirror_mode": {
    "name": "ipython",
    "version": 3
   },
   "file_extension": ".py",
   "mimetype": "text/x-python",
   "name": "python",
   "nbconvert_exporter": "python",
   "pygments_lexer": "ipython3",
   "version": "3.12.4"
  }
 },
 "nbformat": 4,
 "nbformat_minor": 5
}
