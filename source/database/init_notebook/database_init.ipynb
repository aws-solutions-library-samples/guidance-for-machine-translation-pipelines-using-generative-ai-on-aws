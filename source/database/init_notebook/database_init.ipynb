{
 "cells": [
  {
   "cell_type": "markdown",
   "id": "intro",
   "metadata": {},
   "source": [
    "# Translation Memory Database Initialization\n",
    "\n",
    "This notebook allows you to create and initialize the translation memory database for the machine translation pipeline. The translation memory database stores previously translated text pairs with their embeddings to enable similarity search and improve translation consistency.\n",
    "\n",
    "## What this notebook does:\n",
    "\n",
    "- Loads sample translation data (French to German)\n",
    "- Generates embeddings for source and target text using Amazon Bedrock\n",
    "- Populates the Aurora PostgreSQL translation memory table\n",
    "- Tests vector similarity search functionality\n",
    "\n",
    "The translation memory enables the pipeline to find similar previously translated content and suggest consistent translations for recurring text patterns."
   ]
  },
  {
   "cell_type": "markdown",
   "id": "prerequisites",
   "metadata": {},
   "source": [
    "## Prerequisites\n",
    "\n",
    "1. All CDK stacks must have been successfully deployed\n",
    "2. The Translation Memory Aurora PostgreSQL cluster must be running\n",
    "3. The translation_memory table must have been created with vector extension enabled\n",
    "4. Amazon Bedrock access must be configured for embedding generation\n",
    "5. Ensure you have the proper permissions to interact with the Translation Memory database via RDS Data API. A role that includes a policy similar to the one below would be sufficient\n",
    "\n",
    "    ```json\n",
    "    {\n",
    "        \"Action\": [\n",
    "            \"rds-data:BatchExecuteStatement\",\n",
    "            \"rds-data:BeginTransaction\",\n",
    "            \"rds-data:CommitTransaction\",\n",
    "            \"rds-data:ExecuteStatement\",\n",
    "            \"rds-data:RollbackTransaction\"\n",
    "        ],\n",
    "        \"Resource\": \"arn:aws:rds:us-west-2:123456789012123456789012:cluster:my_cluster_id\",\n",
    "        \"Effect\": \"Allow\"\n",
    "    }\n",
    "    ```"
   ]
  },
  {
   "cell_type": "markdown",
   "id": "setup",
   "metadata": {},
   "source": [
    "## Setup\n",
    "\n",
    "Install the required Python libraries for database initialization and embedding generation."
   ]
  },
  {
   "cell_type": "code",
   "execution_count": 47,
   "id": "d325df07",
   "metadata": {},
   "outputs": [],
   "source": [
    "import os\n",
    "\n",
    "# Load environment variables from .env file\n",
    "from dotenv import load_dotenv\n",
    "load_dotenv()\n",
    "\n",
    "AWS_REGION = os.getenv(\"AWS_REGION\")"
   ]
  },
  {
   "cell_type": "code",
   "execution_count": 3,
   "id": "install-deps",
   "metadata": {
    "execution": {
     "iopub.execute_input": "2025-07-10T18:14:55.610620Z",
     "iopub.status.busy": "2025-07-10T18:14:55.610270Z",
     "iopub.status.idle": "2025-07-10T18:15:15.695036Z",
     "shell.execute_reply": "2025-07-10T18:15:15.694024Z",
     "shell.execute_reply.started": "2025-07-10T18:14:55.610594Z"
    },
    "scrolled": true
   },
   "outputs": [
    {
     "name": "stderr",
     "output_type": "stream",
     "text": [
      "python(89219) MallocStackLogging: can't turn off malloc stack logging because it was not enabled.\n"
     ]
    },
    {
     "name": "stdout",
     "output_type": "stream",
     "text": [
      "Requirement already satisfied: packaging==24.2 in /opt/anaconda3/lib/python3.12/site-packages (from -r requirements.txt (line 1)) (24.2)\n",
      "Requirement already satisfied: setuptools==78.1.1 in /opt/anaconda3/lib/python3.12/site-packages (from -r requirements.txt (line 2)) (78.1.1)\n",
      "Note: you may need to restart the kernel to use updated packages.\n"
     ]
    },
    {
     "name": "stderr",
     "output_type": "stream",
     "text": [
      "python(89316) MallocStackLogging: can't turn off malloc stack logging because it was not enabled.\n"
     ]
    },
    {
     "name": "stdout",
     "output_type": "stream",
     "text": [
      "Collecting pandarallel==1.6.5 (from -r bedrock_requirements.txt (line 1))\n",
      "  Downloading pandarallel-1.6.5.tar.gz (14 kB)\n",
      "  Preparing metadata (setup.py) ... \u001b[?25ldone\n",
      "\u001b[?25hCollecting pgvector==0.3.6 (from -r bedrock_requirements.txt (line 2))\n",
      "  Downloading pgvector-0.3.6-py3-none-any.whl.metadata (13 kB)\n",
      "Collecting boto3==1.36.0 (from -r bedrock_requirements.txt (line 3))\n",
      "  Downloading boto3-1.36.0-py3-none-any.whl.metadata (6.6 kB)\n",
      "Collecting psycopg==3.2.4 (from -r bedrock_requirements.txt (line 4))\n",
      "  Downloading psycopg-3.2.4-py3-none-any.whl.metadata (4.3 kB)\n",
      "Collecting numexpr==2.10.2 (from -r bedrock_requirements.txt (line 5))\n",
      "  Downloading numexpr-2.10.2-cp312-cp312-macosx_10_13_x86_64.whl.metadata (8.1 kB)\n",
      "Collecting awscli==1.37.0 (from -r bedrock_requirements.txt (line 6))\n",
      "  Downloading awscli-1.37.0-py3-none-any.whl.metadata (11 kB)\n",
      "Collecting psycopg-binary==3.2.4 (from -r bedrock_requirements.txt (line 7))\n",
      "  Downloading psycopg_binary-3.2.4-cp312-cp312-macosx_10_13_x86_64.whl.metadata (2.8 kB)\n",
      "Requirement already satisfied: dill>=0.3.1 in /opt/anaconda3/lib/python3.12/site-packages (from pandarallel==1.6.5->-r bedrock_requirements.txt (line 1)) (0.3.8)\n",
      "Requirement already satisfied: pandas>=1 in /opt/anaconda3/lib/python3.12/site-packages (from pandarallel==1.6.5->-r bedrock_requirements.txt (line 1)) (2.2.2)\n",
      "Requirement already satisfied: psutil in /opt/anaconda3/lib/python3.12/site-packages (from pandarallel==1.6.5->-r bedrock_requirements.txt (line 1)) (5.9.0)\n",
      "Requirement already satisfied: numpy in /opt/anaconda3/lib/python3.12/site-packages (from pgvector==0.3.6->-r bedrock_requirements.txt (line 2)) (1.26.4)\n",
      "Requirement already satisfied: botocore<1.37.0,>=1.36.0 in /opt/anaconda3/lib/python3.12/site-packages (from boto3==1.36.0->-r bedrock_requirements.txt (line 3)) (1.36.26)\n",
      "Requirement already satisfied: jmespath<2.0.0,>=0.7.1 in /opt/anaconda3/lib/python3.12/site-packages (from boto3==1.36.0->-r bedrock_requirements.txt (line 3)) (1.0.1)\n",
      "Requirement already satisfied: s3transfer<0.12.0,>=0.11.0 in /opt/anaconda3/lib/python3.12/site-packages (from boto3==1.36.0->-r bedrock_requirements.txt (line 3)) (0.11.3)\n",
      "Requirement already satisfied: typing-extensions>=4.6 in /opt/anaconda3/lib/python3.12/site-packages (from psycopg==3.2.4->-r bedrock_requirements.txt (line 4)) (4.14.1)\n",
      "Collecting botocore<1.37.0,>=1.36.0 (from boto3==1.36.0->-r bedrock_requirements.txt (line 3))\n",
      "  Downloading botocore-1.36.0-py3-none-any.whl.metadata (5.7 kB)\n",
      "Collecting docutils<0.17,>=0.10 (from awscli==1.37.0->-r bedrock_requirements.txt (line 6))\n",
      "  Downloading docutils-0.16-py2.py3-none-any.whl.metadata (2.7 kB)\n",
      "Requirement already satisfied: PyYAML<6.1,>=3.10 in /opt/anaconda3/lib/python3.12/site-packages (from awscli==1.37.0->-r bedrock_requirements.txt (line 6)) (6.0.1)\n",
      "Requirement already satisfied: colorama<0.4.7,>=0.2.5 in /opt/anaconda3/lib/python3.12/site-packages (from awscli==1.37.0->-r bedrock_requirements.txt (line 6)) (0.4.6)\n",
      "Collecting rsa<4.8,>=3.1.2 (from awscli==1.37.0->-r bedrock_requirements.txt (line 6))\n",
      "  Downloading rsa-4.7.2-py3-none-any.whl.metadata (3.6 kB)\n",
      "Requirement already satisfied: python-dateutil<3.0.0,>=2.1 in /opt/anaconda3/lib/python3.12/site-packages (from botocore<1.37.0,>=1.36.0->boto3==1.36.0->-r bedrock_requirements.txt (line 3)) (2.9.0.post0)\n",
      "Requirement already satisfied: urllib3!=2.2.0,<3,>=1.25.4 in /opt/anaconda3/lib/python3.12/site-packages (from botocore<1.37.0,>=1.36.0->boto3==1.36.0->-r bedrock_requirements.txt (line 3)) (2.2.2)\n",
      "Requirement already satisfied: pytz>=2020.1 in /opt/anaconda3/lib/python3.12/site-packages (from pandas>=1->pandarallel==1.6.5->-r bedrock_requirements.txt (line 1)) (2024.1)\n",
      "Requirement already satisfied: tzdata>=2022.7 in /opt/anaconda3/lib/python3.12/site-packages (from pandas>=1->pandarallel==1.6.5->-r bedrock_requirements.txt (line 1)) (2023.3)\n",
      "Requirement already satisfied: pyasn1>=0.1.3 in /opt/anaconda3/lib/python3.12/site-packages (from rsa<4.8,>=3.1.2->awscli==1.37.0->-r bedrock_requirements.txt (line 6)) (0.4.8)\n",
      "Requirement already satisfied: six>=1.5 in /opt/anaconda3/lib/python3.12/site-packages (from python-dateutil<3.0.0,>=2.1->botocore<1.37.0,>=1.36.0->boto3==1.36.0->-r bedrock_requirements.txt (line 3)) (1.16.0)\n",
      "Downloading pgvector-0.3.6-py3-none-any.whl (24 kB)\n",
      "Downloading boto3-1.36.0-py3-none-any.whl (139 kB)\n",
      "\u001b[2K   \u001b[90m━━━━━━━━━━━━━━━━━━━━━━━━━━━━━━━━━━━━━━━━\u001b[0m \u001b[32m139.2/139.2 kB\u001b[0m \u001b[31m4.6 MB/s\u001b[0m eta \u001b[36m0:00:00\u001b[0m\n",
      "\u001b[?25hDownloading psycopg-3.2.4-py3-none-any.whl (198 kB)\n",
      "\u001b[2K   \u001b[90m━━━━━━━━━━━━━━━━━━━━━━━━━━━━━━━━━━━━━━━━\u001b[0m \u001b[32m198.7/198.7 kB\u001b[0m \u001b[31m3.4 MB/s\u001b[0m eta \u001b[36m0:00:00\u001b[0m:--:--\u001b[0m\n",
      "\u001b[?25hDownloading numexpr-2.10.2-cp312-cp312-macosx_10_13_x86_64.whl (145 kB)\n",
      "\u001b[2K   \u001b[90m━━━━━━━━━━━━━━━━━━━━━━━━━━━━━━━━━━━━━━━━\u001b[0m \u001b[32m145.0/145.0 kB\u001b[0m \u001b[31m5.0 MB/s\u001b[0m eta \u001b[36m0:00:00\u001b[0m\n",
      "\u001b[?25hDownloading awscli-1.37.0-py3-none-any.whl (4.6 MB)\n",
      "\u001b[2K   \u001b[90m━━━━━━━━━━━━━━━━━━━━━━━━━━━━━━━━━━━━━━━━\u001b[0m \u001b[32m4.6/4.6 MB\u001b[0m \u001b[31m31.1 MB/s\u001b[0m eta \u001b[36m0:00:00\u001b[0ma \u001b[36m0:00:01\u001b[0m\n",
      "\u001b[?25hDownloading psycopg_binary-3.2.4-cp312-cp312-macosx_10_13_x86_64.whl (3.9 MB)\n",
      "\u001b[2K   \u001b[90m━━━━━━━━━━━━━━━━━━━━━━━━━━━━━━━━━━━━━━━━\u001b[0m \u001b[32m3.9/3.9 MB\u001b[0m \u001b[31m36.4 MB/s\u001b[0m eta \u001b[36m0:00:00\u001b[0m00:01\u001b[0m00:01\u001b[0m\n",
      "\u001b[?25hDownloading botocore-1.36.0-py3-none-any.whl (13.3 MB)\n",
      "\u001b[2K   \u001b[90m━━━━━━━━━━━━━━━━━━━━━━━━━━━━━━━━━━━━━━━━\u001b[0m \u001b[32m13.3/13.3 MB\u001b[0m \u001b[31m44.5 MB/s\u001b[0m eta \u001b[36m0:00:00\u001b[0m00:01\u001b[0m00:01\u001b[0m\n",
      "\u001b[?25hDownloading docutils-0.16-py2.py3-none-any.whl (548 kB)\n",
      "\u001b[2K   \u001b[90m━━━━━━━━━━━━━━━━━━━━━━━━━━━━━━━━━━━━━━━━\u001b[0m \u001b[32m548.2/548.2 kB\u001b[0m \u001b[31m17.2 MB/s\u001b[0m eta \u001b[36m0:00:00\u001b[0m\n",
      "\u001b[?25hDownloading rsa-4.7.2-py3-none-any.whl (34 kB)\n",
      "Building wheels for collected packages: pandarallel\n",
      "  Building wheel for pandarallel (setup.py) ... \u001b[?25ldone\n",
      "\u001b[?25h  Created wheel for pandarallel: filename=pandarallel-1.6.5-py3-none-any.whl size=16714 sha256=f749c598d287002bfbe71942e52cbd7d2bed6b6f77e31131a40a2999fd3e1ecd\n",
      "  Stored in directory: /Users/nzzekpa/Library/Caches/pip/wheels/46/f9/0d/40c9cd74a7cb8dc8fe57e8d6c3c19e2c730449c0d3f2bf66b5\n",
      "Successfully built pandarallel\n",
      "Installing collected packages: rsa, psycopg-binary, psycopg, pgvector, numexpr, docutils, botocore, pandarallel, boto3, awscli\n",
      "  Attempting uninstall: numexpr\n",
      "    Found existing installation: numexpr 2.8.7\n",
      "    Uninstalling numexpr-2.8.7:\n",
      "      Successfully uninstalled numexpr-2.8.7\n",
      "  Attempting uninstall: docutils\n",
      "    Found existing installation: docutils 0.18.1\n",
      "    Uninstalling docutils-0.18.1:\n",
      "      Successfully uninstalled docutils-0.18.1\n",
      "  Attempting uninstall: botocore\n",
      "    Found existing installation: botocore 1.36.26\n",
      "    Uninstalling botocore-1.36.26:\n",
      "      Successfully uninstalled botocore-1.36.26\n",
      "  Attempting uninstall: boto3\n",
      "    Found existing installation: boto3 1.36.25\n",
      "    Uninstalling boto3-1.36.25:\n",
      "      Successfully uninstalled boto3-1.36.25\n",
      "\u001b[31mERROR: pip's dependency resolver does not currently take into account all the packages that are installed. This behaviour is the source of the following dependency conflicts.\n",
      "sphinx 7.3.7 requires docutils<0.22,>=0.18.1, but you have docutils 0.16 which is incompatible.\n",
      "aiobotocore 2.12.3 requires botocore<1.34.70,>=1.34.41, but you have botocore 1.36.0 which is incompatible.\n",
      "aws-cdk-constructs 2.39.1 requires boto3==1.36.25, but you have boto3 1.36.0 which is incompatible.\u001b[0m\u001b[31m\n",
      "\u001b[0mSuccessfully installed awscli-1.37.0 boto3-1.36.0 botocore-1.36.0 docutils-0.16 numexpr-2.10.2 pandarallel-1.6.5 pgvector-0.3.6 psycopg-3.2.4 psycopg-binary-3.2.4 rsa-4.7.2\n",
      "Note: you may need to restart the kernel to use updated packages.\n"
     ]
    }
   ],
   "source": [
    "# Install all the required prerequiste libraries - approx 3 min to complete\n",
    "%pip install -r requirements.txt\n",
    "%pip install -r bedrock_requirements.txt"
   ]
  },
  {
   "cell_type": "markdown",
   "id": "embeddings-section",
   "metadata": {},
   "source": [
    "## Generate Embeddings for Sample Data\n",
    "\n",
    "This section demonstrates how to generate vector embeddings for translation pairs using Amazon Bedrock's Titan embedding model. These embeddings enable semantic similarity search in the translation memory."
   ]
  },
  {
   "cell_type": "markdown",
   "id": "load-data",
   "metadata": {},
   "source": [
    "### Load Sample Translation Memory Data\n",
    "\n",
    "Load the WMT19 French-German translation dataset to populate the translation memory with high-quality translation pairs. The sample data is borrowed from the [WMT19](https://huggingface.co/datasets/wmt/wmt19) open source dataset available on HuggingFace."
   ]
  },
  {
   "cell_type": "code",
   "execution_count": 40,
   "id": "init-bedrock",
   "metadata": {
    "execution": {
     "iopub.execute_input": "2025-07-10T18:17:16.657312Z",
     "iopub.status.busy": "2025-07-10T18:17:16.657022Z",
     "iopub.status.idle": "2025-07-10T18:17:16.921492Z",
     "shell.execute_reply": "2025-07-10T18:17:16.920589Z",
     "shell.execute_reply.started": "2025-07-10T18:17:16.657288Z"
    }
   },
   "outputs": [],
   "source": [
    "import boto3\n",
    "import json\n",
    "\n",
    "bedrock = boto3.client(service_name=\"bedrock\", region_name=AWS_REGION)\n",
    "bedrock_runtime = boto3.client(service_name=\"bedrock-runtime\", region_name=AWS_REGION)"
   ]
  },
  {
   "cell_type": "code",
   "execution_count": 36,
   "id": "load-csv",
   "metadata": {
    "execution": {
     "iopub.execute_input": "2025-07-10T18:17:17.241142Z",
     "iopub.status.busy": "2025-07-10T18:17:17.240158Z",
     "iopub.status.idle": "2025-07-10T18:17:17.870195Z",
     "shell.execute_reply": "2025-07-10T18:17:17.869374Z",
     "shell.execute_reply.started": "2025-07-10T18:17:17.241111Z"
    }
   },
   "outputs": [
    {
     "name": "stdout",
     "output_type": "stream",
     "text": [
      "Total number of records : 1000\n"
     ]
    },
    {
     "data": {
      "text/html": [
       "<div>\n",
       "<style scoped>\n",
       "    .dataframe tbody tr th:only-of-type {\n",
       "        vertical-align: middle;\n",
       "    }\n",
       "\n",
       "    .dataframe tbody tr th {\n",
       "        vertical-align: top;\n",
       "    }\n",
       "\n",
       "    .dataframe thead th {\n",
       "        text-align: right;\n",
       "    }\n",
       "</style>\n",
       "<table border=\"1\" class=\"dataframe\">\n",
       "  <thead>\n",
       "    <tr style=\"text-align: right;\">\n",
       "      <th></th>\n",
       "      <th>source</th>\n",
       "      <th>target</th>\n",
       "    </tr>\n",
       "  </thead>\n",
       "  <tbody>\n",
       "    <tr>\n",
       "      <th>0</th>\n",
       "      <td>Reprise de la session</td>\n",
       "      <td>Wiederaufnahme der Sitzungsperiode</td>\n",
       "    </tr>\n",
       "    <tr>\n",
       "      <th>1</th>\n",
       "      <td>Je déclare reprise la session du Parlement eur...</td>\n",
       "      <td>Ich erkläre die am Freitag, dem 17. Dezember u...</td>\n",
       "    </tr>\n",
       "  </tbody>\n",
       "</table>\n",
       "</div>"
      ],
      "text/plain": [
       "                                              source  \\\n",
       "0                              Reprise de la session   \n",
       "1  Je déclare reprise la session du Parlement eur...   \n",
       "\n",
       "                                              target  \n",
       "0                 Wiederaufnahme der Sitzungsperiode  \n",
       "1  Ich erkläre die am Freitag, dem 17. Dezember u...  "
      ]
     },
     "metadata": {},
     "output_type": "display_data"
    }
   ],
   "source": [
    "import pandas as pd\n",
    "\n",
    "# Load the data of csv\n",
    "df = pd.read_csv(os.getenv(\"PATH_TO_SAMPLE_TM_FILE\"))\n",
    "print(\"Total number of records : {}\".format(len(df.index)))\n",
    "\n",
    "display(df.head(2))"
   ]
  },
  {
   "cell_type": "markdown",
   "id": "generate-embeddings",
   "metadata": {},
   "source": [
    "### Generate Text Embeddings\n",
    "\n",
    "Use Amazon Bedrock's Titan Text Embeddings v2 model to convert text into high-dimensional vectors that capture semantic meaning. These embeddings enable similarity search for finding relevant translation memories."
   ]
  },
  {
   "cell_type": "code",
   "execution_count": 42,
   "id": "embedding-function",
   "metadata": {
    "execution": {
     "iopub.execute_input": "2025-07-10T18:17:21.529170Z",
     "iopub.status.busy": "2025-07-10T18:17:21.528879Z",
     "iopub.status.idle": "2025-07-10T18:17:21.629933Z",
     "shell.execute_reply": "2025-07-10T18:17:21.629171Z",
     "shell.execute_reply.started": "2025-07-10T18:17:21.529149Z"
    }
   },
   "outputs": [
    {
     "name": "stdout",
     "output_type": "stream",
     "text": [
      "Number of dimensions : 1024\n"
     ]
    }
   ],
   "source": [
    "def generate_embeddings(query):\n",
    "    \n",
    "    payLoad = json.dumps({'inputText': query })\n",
    "    \n",
    "    response = bedrock_runtime.invoke_model(\n",
    "        body=payLoad, \n",
    "        modelId='amazon.titan-embed-text-v2:0',\n",
    "        accept=\"application/json\", \n",
    "        contentType=\"application/json\" )\n",
    "    response_body = json.loads(response.get(\"body\").read())\n",
    "    return(response_body.get(\"embedding\"))\n",
    "    \n",
    "source_embeddings = generate_embeddings(df.iloc[1].get('source'))\n",
    "\n",
    "print (\"Number of dimensions : {}\".format(len(source_embeddings)))"
   ]
  },
  {
   "cell_type": "code",
   "execution_count": 43,
   "id": "batch-embeddings",
   "metadata": {
    "collapsed": true,
    "execution": {
     "iopub.execute_input": "2025-07-10T18:17:26.480975Z",
     "iopub.status.busy": "2025-07-10T18:17:26.480010Z",
     "iopub.status.idle": "2025-07-10T18:17:29.866220Z",
     "shell.execute_reply": "2025-07-10T18:17:29.865310Z",
     "shell.execute_reply.started": "2025-07-10T18:17:26.480945Z"
    },
    "jupyter": {
     "outputs_hidden": true
    },
    "scrolled": true
   },
   "outputs": [
    {
     "name": "stdout",
     "output_type": "stream",
     "text": [
      "INFO: Pandarallel will run on 8 workers.\n",
      "INFO: Pandarallel will use standard multiprocessing data transfer (pipe) to transfer data between the main process and workers.\n"
     ]
    },
    {
     "name": "stderr",
     "output_type": "stream",
     "text": [
      "/var/folders/bh/g75h3y3510vds47rd2jkcf1h0000gr/T/ipykernel_23399/235285797.py:9: SettingWithCopyWarning: \n",
      "A value is trying to be set on a copy of a slice from a DataFrame.\n",
      "Try using .loc[row_indexer,col_indexer] = value instead\n",
      "\n",
      "See the caveats in the documentation: https://pandas.pydata.org/pandas-docs/stable/user_guide/indexing.html#returning-a-view-versus-a-copy\n",
      "  df_20['target_embeddings'] = df_20['target'].apply(generate_embeddings)\n",
      "/var/folders/bh/g75h3y3510vds47rd2jkcf1h0000gr/T/ipykernel_23399/235285797.py:10: SettingWithCopyWarning: \n",
      "A value is trying to be set on a copy of a slice from a DataFrame.\n",
      "Try using .loc[row_indexer,col_indexer] = value instead\n",
      "\n",
      "See the caveats in the documentation: https://pandas.pydata.org/pandas-docs/stable/user_guide/indexing.html#returning-a-view-versus-a-copy\n",
      "  df_20['source_embeddings'] = df_20['source'].apply(generate_embeddings)\n"
     ]
    }
   ],
   "source": [
    "# Generate embeddings for translation pairs - approx 3 min to complete\n",
    "# Processing first 20 records for demonstration. If there are any failures, please rerun the cell.\n",
    "\n",
    "from pandarallel import pandarallel\n",
    "\n",
    "pandarallel.initialize(progress_bar=True, nb_workers=8)\n",
    "\n",
    "df_20 = df.head(20)\n",
    "df_20['target_embeddings'] = df_20['target'].apply(generate_embeddings)\n",
    "df_20['source_embeddings'] = df_20['source'].apply(generate_embeddings)"
   ]
  },
  {
   "cell_type": "code",
   "execution_count": 19,
   "id": "0e6b5c8a-48b6-422b-b4a3-fda190725b8c",
   "metadata": {
    "execution": {
     "iopub.execute_input": "2025-07-10T18:38:01.011245Z",
     "iopub.status.busy": "2025-07-10T18:38:01.010878Z",
     "iopub.status.idle": "2025-07-10T18:38:01.029206Z",
     "shell.execute_reply": "2025-07-10T18:38:01.028412Z",
     "shell.execute_reply.started": "2025-07-10T18:38:01.011220Z"
    }
   },
   "outputs": [
    {
     "data": {
      "text/html": [
       "<div>\n",
       "<style scoped>\n",
       "    .dataframe tbody tr th:only-of-type {\n",
       "        vertical-align: middle;\n",
       "    }\n",
       "\n",
       "    .dataframe tbody tr th {\n",
       "        vertical-align: top;\n",
       "    }\n",
       "\n",
       "    .dataframe thead th {\n",
       "        text-align: right;\n",
       "    }\n",
       "</style>\n",
       "<table border=\"1\" class=\"dataframe\">\n",
       "  <thead>\n",
       "    <tr style=\"text-align: right;\">\n",
       "      <th></th>\n",
       "      <th>source</th>\n",
       "      <th>target</th>\n",
       "    </tr>\n",
       "  </thead>\n",
       "  <tbody>\n",
       "    <tr>\n",
       "      <th>0</th>\n",
       "      <td>Reprise de la session</td>\n",
       "      <td>Wiederaufnahme der Sitzungsperiode</td>\n",
       "    </tr>\n",
       "    <tr>\n",
       "      <th>1</th>\n",
       "      <td>Je déclare reprise la session du Parlement eur...</td>\n",
       "      <td>Ich erkläre die am Freitag, dem 17. Dezember u...</td>\n",
       "    </tr>\n",
       "    <tr>\n",
       "      <th>2</th>\n",
       "      <td>Comme vous avez pu le constater, le grand \"bog...</td>\n",
       "      <td>Wie Sie feststellen konnten, ist der gefürchte...</td>\n",
       "    </tr>\n",
       "    <tr>\n",
       "      <th>3</th>\n",
       "      <td>Vous avez souhaité un débat à ce sujet dans le...</td>\n",
       "      <td>Im Parlament besteht der Wunsch nach einer Aus...</td>\n",
       "    </tr>\n",
       "    <tr>\n",
       "      <th>4</th>\n",
       "      <td>En attendant, je souhaiterais, comme un certai...</td>\n",
       "      <td>Heute möchte ich Sie bitten - das ist auch der...</td>\n",
       "    </tr>\n",
       "    <tr>\n",
       "      <th>...</th>\n",
       "      <td>...</td>\n",
       "      <td>...</td>\n",
       "    </tr>\n",
       "    <tr>\n",
       "      <th>995</th>\n",
       "      <td>Nous entendons quotidiennement dire qu'il faut...</td>\n",
       "      <td>Tagtäglich werden wir aufgefordert, uns für ei...</td>\n",
       "    </tr>\n",
       "    <tr>\n",
       "      <th>996</th>\n",
       "      <td>Toutefois, en réalité, tout cela tient de la r...</td>\n",
       "      <td>Ein Blick auf die nationalen, regionalen und l...</td>\n",
       "    </tr>\n",
       "    <tr>\n",
       "      <th>997</th>\n",
       "      <td>C'est dans ce contexte que je veux évaluer les...</td>\n",
       "      <td>Dies ist der Zusammenhang, in den ich meine Üb...</td>\n",
       "    </tr>\n",
       "    <tr>\n",
       "      <th>998</th>\n",
       "      <td>Je voudrais dire clairement que nous accordons...</td>\n",
       "      <td>Ich möchte klarstellen, daß wir größtes Vertra...</td>\n",
       "    </tr>\n",
       "    <tr>\n",
       "      <th>999</th>\n",
       "      <td>Nous considérons qu'il est l'homme idoine pour...</td>\n",
       "      <td>Er ist der Mann, auf den wir bei der Zerschlag...</td>\n",
       "    </tr>\n",
       "  </tbody>\n",
       "</table>\n",
       "<p>1000 rows × 2 columns</p>\n",
       "</div>"
      ],
      "text/plain": [
       "                                                source  \\\n",
       "0                                Reprise de la session   \n",
       "1    Je déclare reprise la session du Parlement eur...   \n",
       "2    Comme vous avez pu le constater, le grand \"bog...   \n",
       "3    Vous avez souhaité un débat à ce sujet dans le...   \n",
       "4    En attendant, je souhaiterais, comme un certai...   \n",
       "..                                                 ...   \n",
       "995  Nous entendons quotidiennement dire qu'il faut...   \n",
       "996  Toutefois, en réalité, tout cela tient de la r...   \n",
       "997  C'est dans ce contexte que je veux évaluer les...   \n",
       "998  Je voudrais dire clairement que nous accordons...   \n",
       "999  Nous considérons qu'il est l'homme idoine pour...   \n",
       "\n",
       "                                                target  \n",
       "0                   Wiederaufnahme der Sitzungsperiode  \n",
       "1    Ich erkläre die am Freitag, dem 17. Dezember u...  \n",
       "2    Wie Sie feststellen konnten, ist der gefürchte...  \n",
       "3    Im Parlament besteht der Wunsch nach einer Aus...  \n",
       "4    Heute möchte ich Sie bitten - das ist auch der...  \n",
       "..                                                 ...  \n",
       "995  Tagtäglich werden wir aufgefordert, uns für ei...  \n",
       "996  Ein Blick auf die nationalen, regionalen und l...  \n",
       "997  Dies ist der Zusammenhang, in den ich meine Üb...  \n",
       "998  Ich möchte klarstellen, daß wir größtes Vertra...  \n",
       "999  Er ist der Mann, auf den wir bei der Zerschlag...  \n",
       "\n",
       "[1000 rows x 2 columns]"
      ]
     },
     "execution_count": 19,
     "metadata": {},
     "output_type": "execute_result"
    }
   ],
   "source": [
    "df"
   ]
  },
  {
   "cell_type": "markdown",
   "id": "load-database",
   "metadata": {},
   "source": [
    "### Initialize Translation Memory Table\n",
    "\n",
    "Insert the translation pairs and their embeddings into the Aurora PostgreSQL database using the RDS Data API. The embeddings are stored as vector data types for efficient similarity search.\n",
    "\n",
    "**Note:** Replace the placeholder values in the next cell with the actual CloudFormation output values from your DatabaseStack deployment."
   ]
  },
  {
   "cell_type": "markdown",
   "id": "01036454-0858-4c51-ac5f-227b53d3e28e",
   "metadata": {},
   "source": [
    "#### Create Table"
   ]
  },
  {
   "cell_type": "code",
   "execution_count": 48,
   "id": "df5577e8-5b12-4d53-a026-ef9d3a51fd90",
   "metadata": {
    "execution": {
     "iopub.execute_input": "2025-07-10T18:50:24.875468Z",
     "iopub.status.busy": "2025-07-10T18:50:24.875091Z",
     "iopub.status.idle": "2025-07-10T18:50:24.879963Z",
     "shell.execute_reply": "2025-07-10T18:50:24.878806Z",
     "shell.execute_reply.started": "2025-07-10T18:50:24.875443Z"
    }
   },
   "outputs": [],
   "source": [
    "import boto3 \n",
    "import json \n",
    "\n",
    "# Replace these placeholders with actual values from your CDK deployment outputs:\n",
    "# - DatabaseSecretArn: The ARN of the Aurora credentials secret\n",
    "# - DatabaseClusterArn: The ARN of the Aurora PostgreSQL cluster\n",
    "# - DatabaseName: The name of the translation memory database\n",
    "\n",
    "secret_arn = os.getenv(\"SECRET_ARN\")\n",
    "cluster_arn = os.getenv(\"CLUSTER_ARN\")\n",
    "database_name = os.getenv(\"DATABASE_NAME\")"
   ]
  },
  {
   "cell_type": "code",
   "execution_count": 51,
   "id": "fd394cce-f05f-456c-998b-f364e20cc8a1",
   "metadata": {
    "execution": {
     "iopub.execute_input": "2025-07-10T18:50:53.726027Z",
     "iopub.status.busy": "2025-07-10T18:50:53.725620Z",
     "iopub.status.idle": "2025-07-10T18:50:54.301747Z",
     "shell.execute_reply": "2025-07-10T18:50:54.300993Z",
     "shell.execute_reply.started": "2025-07-10T18:50:53.726001Z"
    }
   },
   "outputs": [],
   "source": [
    "def execute_statement(sql_query):\n",
    "    rds_data = boto3.client('rds-data', region_name=AWS_REGION)\n",
    "\n",
    "    response = rds_data.execute_statement(\n",
    "        resourceArn = cluster_arn, \n",
    "        secretArn = secret_arn, \n",
    "        database = database_name, \n",
    "        sql = sql_query)\n",
    "    \n",
    "def create_table():\n",
    "    rds_data = boto3.client('rds-data', region_name=AWS_REGION)\n",
    "\n",
    "    sql1 = \"\"\"\n",
    "        CREATE EXTENSION IF NOT EXISTS vector;\n",
    "          \"\"\"\n",
    "    execute_statement(sql1)\n",
    "\n",
    "    sql2 = \"\"\"\n",
    "        CREATE TABLE IF NOT EXISTS translation_memory (\n",
    "            unique_id SERIAL PRIMARY KEY,\n",
    "            source_text TEXT NOT NULL,\n",
    "            target_text TEXT NOT NULL,\n",
    "            source_text_embedding vector(1024), -- Add vector embedding column for source text\n",
    "            target_text_embedding vector(1024), -- Add vector embedding column for target text\n",
    "            source_lang VARCHAR(5) NOT NULL,\n",
    "            target_lang VARCHAR(5) NOT NULL, \n",
    "            data_source VARCHAR(50) DEFAULT 'wmt19' NOT NULL,\n",
    "            created_at TIMESTAMP WITH TIME ZONE DEFAULT CURRENT_TIMESTAMP,\n",
    "            \n",
    "            -- Add constraints to ensure valid language codes\n",
    "            CONSTRAINT check_source_lang CHECK (source_lang ~ '^[a-z]{2}$'),\n",
    "            CONSTRAINT check_target_lang CHECK (target_lang ~ '^[a-z]{2}$')\n",
    "        );\n",
    "          \"\"\"\n",
    "\n",
    "    execute_statement(sql2)\n",
    "\n",
    "create_table()"
   ]
  },
  {
   "cell_type": "markdown",
   "id": "8ee8e96e-f03a-4eb5-8812-09d379884280",
   "metadata": {},
   "source": [
    "#### Insert data"
   ]
  },
  {
   "cell_type": "code",
   "execution_count": null,
   "id": "database-config",
   "metadata": {
    "execution": {
     "iopub.execute_input": "2025-07-10T18:50:54.811783Z",
     "iopub.status.busy": "2025-07-10T18:50:54.811436Z",
     "iopub.status.idle": "2025-07-10T18:50:58.942442Z",
     "shell.execute_reply": "2025-07-10T18:50:58.941674Z",
     "shell.execute_reply.started": "2025-07-10T18:50:54.811759Z"
    }
   },
   "outputs": [],
   "source": [
    "def insert_data(source_lang, target_lang, source_text, target_text, source_text_embedding, target_text_embedding):\n",
    "    rds_data = boto3.client('rds-data', region_name=AWS_REGION)\n",
    "\n",
    "    sql = \"\"\"\n",
    "          INSERT INTO translation_memory(source_text, target_text, source_lang, target_lang, source_text_embedding, target_text_embedding)\n",
    "          VALUES( :source_text, :target_text, :source_lang, :target_lang, CAST(:source_text_embedding AS VECTOR), CAST(:target_text_embedding AS VECTOR))\n",
    "          \"\"\"\n",
    "\n",
    "    param2 = {'name':'source_text', 'value':{'stringValue': source_text}}\n",
    "    param3 = {'name':'target_text', 'value':{'stringValue': target_text}}\n",
    "    param4 = {'name':'source_lang', 'value':{'stringValue': source_lang}}\n",
    "    param5 = {'name':'target_lang', 'value':{'stringValue': target_lang}}\n",
    "    param6 = {'name':'source_text_embedding', 'value':{'stringValue': source_text_embedding}}\n",
    "    param7 = {'name':'target_text_embedding', 'value':{'stringValue': target_text_embedding}}\n",
    "    param_set = [param2, param3, param4, param5, param6, param7]\n",
    " \n",
    "    response = rds_data.execute_statement(\n",
    "        resourceArn = cluster_arn, \n",
    "        secretArn = secret_arn, \n",
    "        database = database_name, \n",
    "        sql = sql,\n",
    "        parameters = param_set)\n",
    "\n",
    "for  index, record in df_20.iterrows():\n",
    "    insert_data(\"fr\", \"de\", record['source'], record['target'], str(record['source_embeddings']), str(record['target_embeddings']))"
   ]
  },
  {
   "cell_type": "markdown",
   "id": "28e2e144-ac29-4728-b4e8-2bb21b48a8f6",
   "metadata": {
    "execution": {
     "iopub.execute_input": "2025-07-10T18:33:00.682390Z",
     "iopub.status.busy": "2025-07-10T18:33:00.681671Z",
     "iopub.status.idle": "2025-07-10T18:33:00.686129Z",
     "shell.execute_reply": "2025-07-10T18:33:00.685279Z",
     "shell.execute_reply.started": "2025-07-10T18:33:00.682360Z"
    }
   },
   "source": [
    "#### Create indices after data insert"
   ]
  },
  {
   "cell_type": "code",
   "execution_count": 29,
   "id": "29deafdb-a9d8-4613-8a57-03b5ecfc71ad",
   "metadata": {
    "execution": {
     "iopub.execute_input": "2025-07-10T18:51:40.254968Z",
     "iopub.status.busy": "2025-07-10T18:51:40.254319Z",
     "iopub.status.idle": "2025-07-10T18:51:41.422495Z",
     "shell.execute_reply": "2025-07-10T18:51:41.421646Z",
     "shell.execute_reply.started": "2025-07-10T18:51:40.254941Z"
    }
   },
   "outputs": [],
   "source": [
    "indices_sql = [\n",
    "    \"CREATE INDEX idx_source_lang ON translation_memory(source_lang);\",\n",
    "    \"CREATE INDEX idx_target_lang ON translation_memory(target_lang);\",\n",
    "    \"CREATE INDEX idx_data_source ON translation_memory(data_source);\",\n",
    "    \"CREATE INDEX idx_source_lang_data_source ON translation_memory(source_lang, data_source);\",\n",
    "    \"CREATE INDEX idx_source_text_embedding ON translation_memory USING ivfflat (source_text_embedding vector_cosine_ops);\",\n",
    "    \"CREATE INDEX idx_target_text_embedding ON translation_memory USING ivfflat (target_text_embedding vector_cosine_ops);\"\n",
    "]\n",
    "\n",
    "for sql in indices_sql :\n",
    "    execute_statement(sql)\n"
   ]
  },
  {
   "cell_type": "markdown",
   "id": "test-search",
   "metadata": {},
   "source": [
    "## Test Translation Memory Vector Search\n",
    "\n",
    "Verify that the translation memory is working correctly by performing a similarity search. This demonstrates how the system finds the most similar source texts and their corresponding translations based on vector embeddings."
   ]
  },
  {
   "cell_type": "code",
   "execution_count": 50,
   "id": "similarity-search",
   "metadata": {
    "execution": {
     "iopub.execute_input": "2025-07-10T18:51:49.599992Z",
     "iopub.status.busy": "2025-07-10T18:51:49.599367Z",
     "iopub.status.idle": "2025-07-10T18:51:50.338778Z",
     "shell.execute_reply": "2025-07-10T18:51:50.337970Z",
     "shell.execute_reply.started": "2025-07-10T18:51:49.599965Z"
    }
   },
   "outputs": [
    {
     "name": "stdout",
     "output_type": "stream",
     "text": [
      "{'ResponseMetadata': {'RequestId': '3e91d45a-2fec-42db-9c59-5b748f857aa8', 'HTTPStatusCode': 200, 'HTTPHeaders': {'x-amzn-requestid': '3e91d45a-2fec-42db-9c59-5b748f857aa8', 'date': 'Mon, 14 Jul 2025 15:25:19 GMT', 'content-type': 'application/json', 'content-length': '854', 'connection': 'keep-alive'}, 'RetryAttempts': 0}, 'records': [[{'longValue': 1}, {'stringValue': 'Reprise de la session'}, {'stringValue': 'Wiederaufnahme der Sitzungsperiode'}], [{'longValue': 2}, {'stringValue': 'Je déclare reprise la session du Parlement européen qui avait été interrompue le vendredi 17 décembre dernier et je vous renouvelle tous mes vux en espérant que vous avez passé de bonnes vacances.'}, {'stringValue': 'Ich erkläre die am Freitag, dem 17. Dezember unterbrochene Sitzungsperiode des Europäischen Parlaments für wiederaufgenommen, wünsche Ihnen nochmals alles Gute zum Jahreswechsel und hoffe, daß Sie schöne Ferien hatten.'}], [{'longValue': 8}, {'stringValue': \"Madame la Présidente, c'est une motion de procédure.\"}, {'stringValue': 'Frau Präsidentin, zur Geschäftsordnung.'}]], 'numberOfRecordsUpdated': 0}\n"
     ]
    }
   ],
   "source": [
    "import numpy\n",
    "from IPython.display import display, Markdown, Latex, HTML\n",
    "\n",
    "def similarity_search(search_text):\n",
    "    \n",
    "    embedding = numpy.array(generate_embeddings(search_text))\n",
    "    rds_data = boto3.client('rds-data', region_name=AWS_REGION)\n",
    "    embedding_str = str(embedding.tolist())\n",
    "    sql_text = f\"SELECT unique_id, source_text, target_text FROM translation_memory ORDER BY source_text_embedding <=> CAST('{embedding_str}' AS VECTOR) limit 3;\"\n",
    "    \n",
    "    response = rds_data.execute_statement(\n",
    "        resourceArn = cluster_arn, \n",
    "        secretArn = secret_arn, \n",
    "        database = database_name, \n",
    "        sql = sql_text\n",
    "    )\n",
    "\n",
    "    print(response)\n",
    "\n",
    "similarity_search(\"Reprise de la session\")"
   ]
  },
  {
   "cell_type": "code",
   "execution_count": null,
   "id": "07204505-6b42-4709-8477-b760a89ff2f4",
   "metadata": {},
   "outputs": [],
   "source": []
  }
 ],
 "metadata": {
  "kernelspec": {
   "display_name": "base",
   "language": "python",
   "name": "python3"
  },
  "language_info": {
   "codemirror_mode": {
    "name": "ipython",
    "version": 3
   },
   "file_extension": ".py",
   "mimetype": "text/x-python",
   "name": "python",
   "nbconvert_exporter": "python",
   "pygments_lexer": "ipython3",
   "version": "3.12.4"
  }
 },
 "nbformat": 4,
 "nbformat_minor": 5
}
